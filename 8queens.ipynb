{
 "cells": [
  {
   "cell_type": "code",
   "execution_count": 21,
   "metadata": {},
   "outputs": [],
   "source": [
    "import random\n",
    "import numpy as np\n",
    "from numpy.random import choice\n",
    "import pandas as pd"
   ]
  },
  {
   "cell_type": "code",
   "execution_count": 22,
   "metadata": {},
   "outputs": [],
   "source": [
    "mutationRate = 0.01"
   ]
  },
  {
   "cell_type": "code",
   "execution_count": 23,
   "metadata": {},
   "outputs": [],
   "source": [
    "totalPopulation = 8"
   ]
  },
  {
   "cell_type": "code",
   "execution_count": 24,
   "metadata": {},
   "outputs": [],
   "source": [
    "crossOver = 0.5"
   ]
  },
  {
   "cell_type": "code",
   "execution_count": 35,
   "metadata": {},
   "outputs": [],
   "source": [
    "target =  '03456127'"
   ]
  },
  {
   "cell_type": "code",
   "execution_count": 36,
   "metadata": {},
   "outputs": [],
   "source": [
    "alpha_list = [str(x) for x in range(0,8,1)]"
   ]
  },
  {
   "cell_type": "code",
   "execution_count": 37,
   "metadata": {},
   "outputs": [],
   "source": [
    "populationData = []\n",
    "fitnessData = []\n",
    "secure_random = random.SystemRandom()"
   ]
  },
  {
   "cell_type": "code",
   "execution_count": 38,
   "metadata": {},
   "outputs": [],
   "source": [
    "for outloop in range(totalPopulation):\n",
    "    randomData = []\n",
    "    fitnessScore = 0\n",
    "    for inloop in range(len(target)):\n",
    "        selectedData = secure_random.choice(alpha_list)\n",
    "        if selectedData == target[inloop]:\n",
    "            fitnessScore = fitnessScore + 1\n",
    "        randomData.append(selectedData)\n",
    "    populationData.append(randomData)\n",
    "    fitnessData.append(fitnessScore)\n",
    "probabilityDist = []"
   ]
  },
  {
   "cell_type": "code",
   "execution_count": 39,
   "metadata": {},
   "outputs": [],
   "source": [
    "for outloop in range(totalPopulation):\n",
    "    probabilityDist.append(fitnessData[outloop]/len(target))\n",
    "probDataFrame = pd.DataFrame({'String':populationData,'FitnessScore':fitnessData,'Probability':probabilityDist})\n",
    "probDataFrame = probDataFrame.sort_values(['Probability'],ascending=False)\n",
    "probDataFrame = probDataFrame.reset_index(drop=True)"
   ]
  },
  {
   "cell_type": "code",
   "execution_count": 40,
   "metadata": {},
   "outputs": [],
   "source": [
    "def maxProb(probabilityDist):\n",
    "    probabilityList = [f for f in set(probabilityDist)]\n",
    "    return (probabilityList[len(probabilityList)-2])"
   ]
  },
  {
   "cell_type": "code",
   "execution_count": 41,
   "metadata": {},
   "outputs": [],
   "source": [
    "def getFitnessScore(data):\n",
    "    data = ''.join([elem for elem in data])\n",
    "    fitnessScore = 0\n",
    "    for inloop in range(len(target)):\n",
    "        if (data[inloop] == target[inloop]):\n",
    "            fitnessScore = fitnessScore + 1\n",
    "    return fitnessScore"
   ]
  },
  {
   "cell_type": "code",
   "execution_count": 42,
   "metadata": {},
   "outputs": [],
   "source": [
    "def viewElement(data):\n",
    "    data = ''.join([elem for elem in data])\n",
    "    return data"
   ]
  },
  {
   "cell_type": "code",
   "execution_count": 43,
   "metadata": {},
   "outputs": [],
   "source": [
    "crossOverPoint = int(crossOver*len(target))\n",
    "generationCount = 250"
   ]
  },
  {
   "cell_type": "code",
   "execution_count": 44,
   "metadata": {},
   "outputs": [
    {
     "name": "stdout",
     "output_type": "stream",
     "text": [
      "03456127   03456127\n"
     ]
    }
   ],
   "source": [
    "for loop in range(generationCount):\n",
    "    draw=[]\n",
    "    draw.append(probDataFrame[0:1][\"String\"].values[0])\n",
    "    draw.append(probDataFrame[1:2][\"String\"].values[0])\n",
    "    if (getFitnessScore(draw[0])==len(target) | getFitnessScore(draw[1])==len(target)):\n",
    "        print(viewElement(draw[0]),' ',viewElement(draw[1]))\n",
    "        break\n",
    "    child1 = draw[0][0:crossOverPoint]+draw[1][crossOverPoint:]\n",
    "    child2 = draw[1][0:crossOverPoint]+draw[0][crossOverPoint:]\n",
    "    child1[random.randint(0,len(target)-1)] = secure_random.choice(alpha_list)\n",
    "    child2[random.randint(0,len(target)-1)] = secure_random.choice(alpha_list)\n",
    "    populationData.append(child1)\n",
    "    populationData.append(child2)\n",
    "    fitnessData = []\n",
    "    totalPopulation = len(populationData)\n",
    "    for outloop in range(totalPopulation):\n",
    "        fitnessScore = getFitnessScore(populationData[outloop])\n",
    "        fitnessData.append(fitnessScore)\n",
    "    probabilityDist = []\n",
    "    for outloop in range(totalPopulation):\n",
    "        probabilityDist.append(fitnessData[outloop]/sum(fitnessData))\n",
    "    probDataFrame = pd.DataFrame({'String':populationData,'FitnessScore':fitnessData,'Probability':probabilityDist})\n",
    "    probDataFrame = probDataFrame.sort_values(['Probability'],ascending=False)\n",
    "    probDataFrame = probDataFrame.reset_index(drop=True)\n",
    "    #print('Generation ',loop,' ',' Average Fitness Score ',probDataFrame[\"FitnessScore\"].mean(),' ', ''.join(elem for elem in child1),' ',getFitnessScore(child1),''.join(elem for elem in child2),getFitnessScore(child2))\n",
    "  #print('Generation ',loop,' ',' Average Fitness Score ',probDataFrame[\"FitnessScore\"].mean())"
   ]
  },
  {
   "cell_type": "code",
   "execution_count": null,
   "metadata": {},
   "outputs": [],
   "source": []
  },
  {
   "cell_type": "code",
   "execution_count": null,
   "metadata": {},
   "outputs": [],
   "source": []
  },
  {
   "cell_type": "code",
   "execution_count": null,
   "metadata": {},
   "outputs": [],
   "source": []
  }
 ],
 "metadata": {
  "kernelspec": {
   "display_name": "Python 3",
   "language": "python",
   "name": "python3"
  },
  "language_info": {
   "codemirror_mode": {
    "name": "ipython",
    "version": 3
   },
   "file_extension": ".py",
   "mimetype": "text/x-python",
   "name": "python",
   "nbconvert_exporter": "python",
   "pygments_lexer": "ipython3",
   "version": "3.7.3"
  }
 },
 "nbformat": 4,
 "nbformat_minor": 2
}
